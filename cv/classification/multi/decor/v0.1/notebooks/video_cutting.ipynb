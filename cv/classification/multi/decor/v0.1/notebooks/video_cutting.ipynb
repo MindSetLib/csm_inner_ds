{
 "cells": [
  {
   "cell_type": "markdown",
   "id": "8f7e88b0",
   "metadata": {},
   "source": [
    "### Задача"
   ]
  },
  {
   "cell_type": "markdown",
   "id": "d30bf970",
   "metadata": {},
   "source": [
    "Нарезать видео на кадры из которых будет формироваться датасет для обучения.\n",
    "\n",
    "1. Необходимо нарезать видео из ФСК.\n",
    "2. Необходимо нарезать видео из Самолета."
   ]
  },
  {
   "cell_type": "markdown",
   "id": "e4456ae0-f207-4ceb-8914-859bf77318af",
   "metadata": {},
   "source": [
    "### Дата нарезки"
   ]
  },
  {
   "cell_type": "markdown",
   "id": "2d4eb3be-f881-4bac-b047-8a8d3cf309b2",
   "metadata": {},
   "source": [
    "05.02.2024. По дате определим, какие видео для добавления в датасет, отбирать в будущем."
   ]
  },
  {
   "cell_type": "markdown",
   "id": "c5361b35",
   "metadata": {},
   "source": [
    "### Mount"
   ]
  },
  {
   "cell_type": "markdown",
   "id": "a220fc45",
   "metadata": {},
   "source": [
    "Подмонтируем папку из сервера к докер контейнеру Jupyter Lab."
   ]
  },
  {
   "cell_type": "code",
   "execution_count": null,
   "id": "a9d2c9bd-9cc6-44d7-b31e-e416afc8d289",
   "metadata": {},
   "outputs": [],
   "source": [
    "sudo mount --bind /mnt/4TBVideo/Video /var/lib/docker/volumes/jupyterhub-user-{git-username}/_data/samolet_data_video"
   ]
  },
  {
   "cell_type": "code",
   "execution_count": null,
   "id": "b2f6b92b-b0ac-4df8-aba0-9fdbf6dc660a",
   "metadata": {},
   "outputs": [],
   "source": [
    "/var/lib/docker/volumes/jupyterhub-user-ignatovd/_data/csm_inner_ds/cv/classification/multi/decor/v0.1/data/datasets/original"
   ]
  },
  {
   "cell_type": "markdown",
   "id": "81629c2b-b53d-4909-a823-835b71634109",
   "metadata": {},
   "source": [
    "### План нарезки"
   ]
  },
  {
   "cell_type": "markdown",
   "id": "ffcffefa-5e20-45a1-ab21-26e337fc6ff9",
   "metadata": {},
   "source": [
    "Обсудили с заказчиком, что необходимо сделать упор на улучшение работы модели на данных заказчика ФСК. На момент нарезки, было отснято 98 видео одного здания ФСК. Все видео были взяты в нарезку изображений в датасет. Последнее видео от 01.02.24.\n",
    "\n",
    "В проекте Самолет проходит пилот на 4 зданиях. Проекты отличаются от тех, что были ранее в обучающей выборке. Хорошо их добавить для улучшения обобщающей способности модели. Чтобы успеть в сроки по времени и с учетом имеющихся ресурсов разметчиков, было отобрано несколько видео вручную для добавления в датасет. Отбор происходил по принципу, чтобы добавить кейсы которые модель не видела раньше. Названия видео представлены ниже, если запланируем в будущем добавить больше данных из этих проектов, мы по названию исключим видео из нарезки, чтобы исключить дубли. \n",
    "\n",
    "По расчётам сроков и доступному количеству разметчиков, всего разметить сможем 3300 изображений. Необходимо в данной итерации добавить следующие датасеты в необходимом количестве:\n",
    "\n",
    "1. Водяные счётчики, 300 шт.\n",
    "2. Двери МОП, 500 шт.\n",
    "3. Изображения на котором изображено окно, помещение в черновой отделке без батареи, 500 шт.\n",
    "4. Здание ФСК, 1500 шт.\n",
    "5. Пилотные проекты Самолета, 500 шт."
   ]
  },
  {
   "cell_type": "markdown",
   "id": "fe78f283-286a-4b6b-9a4a-c9ac719a46b9",
   "metadata": {},
   "source": [
    "**Водяные счетчики.**\n",
    "\n",
    "Собрали в интернете изображения, потому что водяные счетчики в Самолете устанавливают при здаче квартиры заказчку, т.к. счетчики воруют. Поэтому на видео водяные счетчики присутствуют весьма редко."
   ]
  },
  {
   "cell_type": "markdown",
   "id": "111bf73e-e2f5-4ea8-aa81-80a1f10658d2",
   "metadata": {},
   "source": [
    "**Двери МОП**"
   ]
  },
  {
   "cell_type": "markdown",
   "id": "dc69633e-3292-4168-a218-cecc2902521b",
   "metadata": {},
   "source": [
    "Ожидаем съемку, отдельно только дверей МОП. На видео объодчиков двери МОП встречаются редко."
   ]
  },
  {
   "cell_type": "markdown",
   "id": "8c0b3847-0665-4ce7-8f45-dd2d33946942",
   "metadata": {},
   "source": [
    "**Пилотные проекты самолета.**"
   ]
  },
  {
   "cell_type": "markdown",
   "id": "b91b92d8-e823-4707-bc54-6ef92908de55",
   "metadata": {},
   "source": [
    "На данный момент ведется съемка на 4х объектах: Прибрежный парк (ПРП_3 оч_8.2 ж.д.), Пригород Лесное (ПЛ_6 оч_1 эт_8.1 ж.д.), Новое Внуково (НВ_2 оч_13 ж.д.), Остафьево есть в текущем датасете.\n",
    "\n",
    "Dubai_SHOBA CONSTRUCTION_[Building 1] есть небольшое короткое видео офиса с готовой отделкой, возьмем так же немного изображений. "
   ]
  },
  {
   "cell_type": "code",
   "execution_count": 37,
   "id": "bf11ff4d-0180-4ddb-a8e4-223bef0d3433",
   "metadata": {
    "tags": []
   },
   "outputs": [],
   "source": [
    "pilot_videos = [\n",
    "    # квартиры на этаже\n",
    "    'QR_Московская обл._ПРИБРЕЖНЫЙ ПАРК_[ПРП_3 оч_8.2 ж.д.]_1_7_125_o5RIRB_04-02-24_decor.mp4',\n",
    "    'Hand_Москва_НОВОЕ ВНУКОВО_[НВ_2 оч_13 ж.д.]_1_3_117_npHBS5_24-01-24_decor.mp4',\n",
    "    'QR_Dubai_SHOBA CONSTRUCTION_[Building 1]_1_3_11_7CAeyk_12-12-23_decor.mp4',\n",
    "    'QR_Московская обл._ПРИГОРОД ЛЕСНОЕ_[ПЛ_6 оч_1 эт_8.1 ж.д.]_1_2_127_IhppQE_11-12-23_decor.mp4',\n",
    "    # вестибюль\n",
    "    # Новое Внуково, есть только в финальной стадии\n",
    "    'Hand_Москва_НОВОЕ ВНУКОВО_[НВ_2 оч_13 ж.д.]_1_1_117_zQp23A_18-11-23_decor.mp4',\n",
    "    # Прибрежный парк есть только в черновой стадии\n",
    "    'QR_Московская обл._ПРИБРЕЖНЫЙ ПАРК_[ПРП_3 оч_8.2 ж.д.]_1_1_125_Qq281y_29-10-23_decor.mp4',\n",
    "    # Остафьево Пригород Лесное видео вестибюля отсутствует\n",
    "]"
   ]
  },
  {
   "cell_type": "markdown",
   "id": "8443de1c-f838-4a9d-bbb5-691edca4d6b8",
   "metadata": {},
   "source": [
    "**Изображение окна, помещения в черновой отделки без батареи.**"
   ]
  },
  {
   "cell_type": "code",
   "execution_count": null,
   "id": "1b673792-f111-4723-b3fc-1603bfa3509f",
   "metadata": {},
   "outputs": [],
   "source": [
    "radiator_videos = [\n",
    "    'QR_Москва_ОСТАФЬЕВО_[ОСТ_4 оч_13 ж.д.]_1_11_126_vH8Awc_07-10-23_decor.mp4',\n",
    "    'QR_Москва_ОСТАФЬЕВО_[ОСТ_4 оч_13 ж.д.]_1_10_126_ALZsWH_21-10-23_decor.mp4',\n",
    "    'QR_Москва_ОСТАФЬЕВО_[ОСТ_4 оч_13 ж.д.]_1_9_126_HloViF_21-10-23_decor.mp4',\n",
    "    'QR_Москва_ОСТАФЬЕВО_[ОСТ_4 оч_13 ж.д.]_1_4_126_RhA3jm_21-10-23_decor.mp4',\n",
    "    'QR_Москва_ОСТАФЬЕВО_[ОСТ_4 оч_13 ж.д.]_1_6_126_4a8o76_21-10-23_decor.mp4',\n",
    "    'QR_Москва_ОСТАФЬЕВО_[ОСТ_4 оч_13 ж.д.]_1_6_126_7nk4A9_07-10-23_decor.mp4'\n",
    "]"
   ]
  },
  {
   "cell_type": "markdown",
   "id": "eec2e473",
   "metadata": {},
   "source": [
    "### Import"
   ]
  },
  {
   "cell_type": "code",
   "execution_count": 36,
   "id": "b8ab6720",
   "metadata": {},
   "outputs": [],
   "source": [
    "import os\n",
    "import numpy as np\n",
    "import cv2\n",
    "import time\n",
    "from tqdm import tqdm\n",
    "from pathlib import Path"
   ]
  },
  {
   "cell_type": "markdown",
   "id": "2f36b5a8",
   "metadata": {},
   "source": [
    "### Config"
   ]
  },
  {
   "cell_type": "code",
   "execution_count": 23,
   "id": "9120746a",
   "metadata": {},
   "outputs": [],
   "source": [
    "PATH = '../data/outer/video/fsk/source_video_decor/'\n",
    "PATH_SAVE = '../data/cutting/fsk/'\n",
    "multiplier = 1000"
   ]
  },
  {
   "cell_type": "markdown",
   "id": "76360b6b",
   "metadata": {},
   "source": [
    "### Cutting without select"
   ]
  },
  {
   "cell_type": "code",
   "execution_count": null,
   "id": "d2c05097",
   "metadata": {
    "collapsed": true,
    "jupyter": {
     "outputs_hidden": true
    },
    "tags": []
   },
   "outputs": [
    {
     "name": "stdout",
     "output_type": "stream",
     "text": [
      "Number of video: 98\n"
     ]
    },
    {
     "name": "stderr",
     "output_type": "stream",
     "text": [
      "Video: QR_Московская обл._БИТЦА_[7й корпус]_2_16_3_az3Cgz_26-01-24.mp4:   0%|          | 0/98 [00:00<?, ?it/s]"
     ]
    },
    {
     "name": "stdout",
     "output_type": "stream",
     "text": [
      "Path video: ../data/outer/video/fsk/source_video_decor/QR_Московская обл._БИТЦА_[7й корпус]_2_16_3_az3Cgz_26-01-24.mp4\n",
      "Number of frames: 5358\n"
     ]
    },
    {
     "name": "stderr",
     "output_type": "stream",
     "text": [
      "Video: QR_Московская обл._БИТЦА_[7й корпус]_2_19_3_WKygOQ_26-01-24.mp4:   1%|          | 1/98 [01:51<3:00:40, 111.76s/it]"
     ]
    },
    {
     "name": "stdout",
     "output_type": "stream",
     "text": [
      "Path video: ../data/outer/video/fsk/source_video_decor/QR_Московская обл._БИТЦА_[7й корпус]_2_19_3_WKygOQ_26-01-24.mp4\n",
      "Number of frames: 5848\n"
     ]
    },
    {
     "name": "stderr",
     "output_type": "stream",
     "text": [
      "Video: QR_Московская обл._БИТЦА_[7й корпус]_4_5_3_DBEiCU_30-01-24.mp4:   2%|▏         | 2/98 [03:23<2:39:46, 99.86s/it]  "
     ]
    },
    {
     "name": "stdout",
     "output_type": "stream",
     "text": [
      "Path video: ../data/outer/video/fsk/source_video_decor/QR_Московская обл._БИТЦА_[7й корпус]_4_5_3_DBEiCU_30-01-24.mp4\n",
      "Number of frames: 3280\n"
     ]
    },
    {
     "name": "stderr",
     "output_type": "stream",
     "text": [
      "Video: QR_Московская обл._БИТЦА_[7й корпус]_2_7_3_4kqnMB_26-01-24.mp4:   3%|▎         | 3/98 [05:26<2:55:09, 110.63s/it]"
     ]
    },
    {
     "name": "stdout",
     "output_type": "stream",
     "text": [
      "Path video: ../data/outer/video/fsk/source_video_decor/QR_Московская обл._БИТЦА_[7й корпус]_2_7_3_4kqnMB_26-01-24.mp4\n",
      "Number of frames: 5656\n"
     ]
    },
    {
     "name": "stderr",
     "output_type": "stream",
     "text": [
      "Video: QR_Московская обл._БИТЦА_[7й корпус]_5_16_3_YoMkZA_30-01-24.mp4:   4%|▍         | 4/98 [06:20<2:18:17, 88.27s/it]"
     ]
    },
    {
     "name": "stdout",
     "output_type": "stream",
     "text": [
      "Path video: ../data/outer/video/fsk/source_video_decor/QR_Московская обл._БИТЦА_[7й корпус]_5_16_3_YoMkZA_30-01-24.mp4\n",
      "Number of frames: 2275\n"
     ]
    },
    {
     "name": "stderr",
     "output_type": "stream",
     "text": [
      "Video: QR_Московская обл._БИТЦА_[7й корпус]_5_7_3_91a6SV_30-01-24.mp4:   5%|▌         | 5/98 [06:40<1:38:34, 63.60s/it] "
     ]
    },
    {
     "name": "stdout",
     "output_type": "stream",
     "text": [
      "Path video: ../data/outer/video/fsk/source_video_decor/QR_Московская обл._БИТЦА_[7й корпус]_5_7_3_91a6SV_30-01-24.mp4\n",
      "Number of frames: 2126\n"
     ]
    },
    {
     "name": "stderr",
     "output_type": "stream",
     "text": [
      "Video: QR_Московская обл._БИТЦА_[7й корпус]_2_21_3_chJw8n_26-01-24.mp4:   6%|▌         | 6/98 [06:59<1:14:09, 48.36s/it]"
     ]
    },
    {
     "name": "stdout",
     "output_type": "stream",
     "text": [
      "Path video: ../data/outer/video/fsk/source_video_decor/QR_Московская обл._БИТЦА_[7й корпус]_2_21_3_chJw8n_26-01-24.mp4\n",
      "Number of frames: 5219\n"
     ]
    },
    {
     "name": "stderr",
     "output_type": "stream",
     "text": [
      "Video: QR_Московская обл._БИТЦА_[7й корпус]_4_15_3_8hYVpB_30-01-24.mp4:   7%|▋         | 7/98 [07:47<1:13:19, 48.35s/it]"
     ]
    },
    {
     "name": "stdout",
     "output_type": "stream",
     "text": [
      "Path video: ../data/outer/video/fsk/source_video_decor/QR_Московская обл._БИТЦА_[7й корпус]_4_15_3_8hYVpB_30-01-24.mp4\n",
      "Number of frames: 2541\n"
     ]
    },
    {
     "name": "stderr",
     "output_type": "stream",
     "text": [
      "Video: QR_Московская обл._БИТЦА_[7й корпус]_2_11_3_q84gww_26-01-24.mp4:   8%|▊         | 8/98 [08:10<1:00:23, 40.26s/it]"
     ]
    },
    {
     "name": "stdout",
     "output_type": "stream",
     "text": [
      "Path video: ../data/outer/video/fsk/source_video_decor/QR_Московская обл._БИТЦА_[7й корпус]_2_11_3_q84gww_26-01-24.mp4\n",
      "Number of frames: 5665\n"
     ]
    },
    {
     "name": "stderr",
     "output_type": "stream",
     "text": [
      "Video: QR_Московская обл._БИТЦА_[7й корпус]_5_5_3_ibwKTb_30-01-24.mp4:   9%|▉         | 9/98 [09:00<1:04:11, 43.27s/it] "
     ]
    },
    {
     "name": "stdout",
     "output_type": "stream",
     "text": [
      "Path video: ../data/outer/video/fsk/source_video_decor/QR_Московская обл._БИТЦА_[7й корпус]_5_5_3_ibwKTb_30-01-24.mp4\n",
      "Number of frames: 2804\n"
     ]
    },
    {
     "name": "stderr",
     "output_type": "stream",
     "text": [
      "Video: QR_Московская обл._БИТЦА_[7й корпус]_4_13_3_8AvRcA_30-01-24.mp4:  10%|█         | 10/98 [09:28<56:23, 38.45s/it]"
     ]
    },
    {
     "name": "stdout",
     "output_type": "stream",
     "text": [
      "Path video: ../data/outer/video/fsk/source_video_decor/QR_Московская обл._БИТЦА_[7й корпус]_4_13_3_8AvRcA_30-01-24.mp4\n",
      "Number of frames: 2823\n"
     ]
    },
    {
     "name": "stderr",
     "output_type": "stream",
     "text": [
      "Video: QR_Московская обл._БИТЦА_[7й корпус]_2_23_3_vgRj8v_26-01-24.mp4:  11%|█         | 11/98 [10:03<54:34, 37.64s/it]"
     ]
    },
    {
     "name": "stdout",
     "output_type": "stream",
     "text": [
      "Path video: ../data/outer/video/fsk/source_video_decor/QR_Московская обл._БИТЦА_[7й корпус]_2_23_3_vgRj8v_26-01-24.mp4\n",
      "Number of frames: 5796\n"
     ]
    },
    {
     "name": "stderr",
     "output_type": "stream",
     "text": [
      "Video: QR_Московская обл._БИТЦА_[7й корпус]_1_9_3_yKzj4m_25-01-24_decor.mp4:  12%|█▏        | 12/98 [10:57<1:00:50, 42.45s/it]"
     ]
    },
    {
     "name": "stdout",
     "output_type": "stream",
     "text": [
      "Path video: ../data/outer/video/fsk/source_video_decor/QR_Московская обл._БИТЦА_[7й корпус]_1_9_3_yKzj4m_25-01-24_decor.mp4\n",
      "Number of frames: 5185\n"
     ]
    },
    {
     "name": "stderr",
     "output_type": "stream",
     "text": [
      "Video: QR_Московская обл._БИТЦА_[7й корпус]_3_9_3_rodpyu_30-01-24.mp4:  13%|█▎        | 13/98 [13:51<1:56:43, 82.40s/it]      "
     ]
    },
    {
     "name": "stdout",
     "output_type": "stream",
     "text": [
      "Path video: ../data/outer/video/fsk/source_video_decor/QR_Московская обл._БИТЦА_[7й корпус]_3_9_3_rodpyu_30-01-24.mp4\n",
      "Number of frames: 4598\n"
     ]
    },
    {
     "name": "stderr",
     "output_type": "stream",
     "text": [
      "Video: QR_Московская обл._БИТЦА_[7й корпус]_4_9_3_3sGfq4_30-01-24.mp4:  14%|█▍        | 14/98 [14:48<1:44:20, 74.53s/it]"
     ]
    },
    {
     "name": "stdout",
     "output_type": "stream",
     "text": [
      "Path video: ../data/outer/video/fsk/source_video_decor/QR_Московская обл._БИТЦА_[7й корпус]_4_9_3_3sGfq4_30-01-24.mp4\n",
      "Number of frames: 3224\n"
     ]
    },
    {
     "name": "stderr",
     "output_type": "stream",
     "text": [
      "Video: QR_Московская обл._БИТЦА_[7й корпус]_4_16_3_IGyTCW_30-01-24.mp4:  15%|█▌        | 15/98 [15:20<1:25:29, 61.80s/it]"
     ]
    },
    {
     "name": "stdout",
     "output_type": "stream",
     "text": [
      "Path video: ../data/outer/video/fsk/source_video_decor/QR_Московская обл._БИТЦА_[7й корпус]_4_16_3_IGyTCW_30-01-24.mp4\n",
      "Number of frames: 3229\n"
     ]
    },
    {
     "name": "stderr",
     "output_type": "stream",
     "text": [
      "Video: QR_Московская обл._БИТЦА_[7й корпус]_8_7_3_h6oAgI_01-02-24.mp4:  16%|█▋        | 16/98 [16:00<1:15:36, 55.32s/it] "
     ]
    },
    {
     "name": "stdout",
     "output_type": "stream",
     "text": [
      "Path video: ../data/outer/video/fsk/source_video_decor/QR_Московская обл._БИТЦА_[7й корпус]_8_7_3_h6oAgI_01-02-24.mp4\n",
      "Number of frames: 3399\n"
     ]
    },
    {
     "name": "stderr",
     "output_type": "stream",
     "text": [
      "Video: QR_Московская обл._БИТЦА_[7й корпус]_5_20_3_FxGgR6_30-01-24.mp4:  17%|█▋        | 17/98 [16:44<1:10:00, 51.86s/it]"
     ]
    },
    {
     "name": "stdout",
     "output_type": "stream",
     "text": [
      "Path video: ../data/outer/video/fsk/source_video_decor/QR_Московская обл._БИТЦА_[7й корпус]_5_20_3_FxGgR6_30-01-24.mp4\n",
      "Number of frames: 2397\n"
     ]
    },
    {
     "name": "stderr",
     "output_type": "stream",
     "text": [
      "Video: QR_Московская обл._БИТЦА_[7й корпус]_4_8_3_C9dZ8L_30-01-24.mp4:  18%|█▊        | 18/98 [17:13<59:54, 44.93s/it]   "
     ]
    },
    {
     "name": "stdout",
     "output_type": "stream",
     "text": [
      "Path video: ../data/outer/video/fsk/source_video_decor/QR_Московская обл._БИТЦА_[7й корпус]_4_8_3_C9dZ8L_30-01-24.mp4\n",
      "Number of frames: 3059\n"
     ]
    },
    {
     "name": "stderr",
     "output_type": "stream",
     "text": [
      "Video: QR_Московская обл._БИТЦА_[7й корпус]_5_18_3_eJ44JK_30-01-24.mp4:  19%|█▉        | 19/98 [17:49<55:51, 42.43s/it]"
     ]
    },
    {
     "name": "stdout",
     "output_type": "stream",
     "text": [
      "Path video: ../data/outer/video/fsk/source_video_decor/QR_Московская обл._БИТЦА_[7й корпус]_5_18_3_eJ44JK_30-01-24.mp4\n",
      "Number of frames: 2749\n"
     ]
    },
    {
     "name": "stderr",
     "output_type": "stream",
     "text": [
      "Video: QR_Московская обл._БИТЦА_[7й корпус]_8_5_3_6rtScQ_01-02-24.mp4:  20%|██        | 20/98 [18:23<51:43, 39.78s/it] "
     ]
    },
    {
     "name": "stdout",
     "output_type": "stream",
     "text": [
      "Path video: ../data/outer/video/fsk/source_video_decor/QR_Московская обл._БИТЦА_[7й корпус]_8_5_3_6rtScQ_01-02-24.mp4\n",
      "Number of frames: 1130\n"
     ]
    },
    {
     "name": "stderr",
     "output_type": "stream",
     "text": [
      "Video: QR_Московская обл._БИТЦА_[7й корпус]_1_22_3_0dDtDF_26-01-24.mp4:  21%|██▏       | 21/98 [18:35<40:30, 31.57s/it]"
     ]
    },
    {
     "name": "stdout",
     "output_type": "stream",
     "text": [
      "Path video: ../data/outer/video/fsk/source_video_decor/QR_Московская обл._БИТЦА_[7й корпус]_1_22_3_0dDtDF_26-01-24.mp4\n",
      "Number of frames: 4082\n"
     ]
    },
    {
     "name": "stderr",
     "output_type": "stream",
     "text": [
      "Video: QR_Московская обл._БИТЦА_[7й корпус]_1_16_3_vJpYDI_26-01-24.mp4:  22%|██▏       | 22/98 [19:16<43:16, 34.16s/it]"
     ]
    },
    {
     "name": "stdout",
     "output_type": "stream",
     "text": [
      "Path video: ../data/outer/video/fsk/source_video_decor/QR_Московская обл._БИТЦА_[7й корпус]_1_16_3_vJpYDI_26-01-24.mp4\n",
      "Number of frames: 3537\n"
     ]
    },
    {
     "name": "stderr",
     "output_type": "stream",
     "text": [
      "Video: QR_Московская обл._БИТЦА_[7й корпус]_1_5_3_OeNbJ1_25-01-24_decor.mp4:  23%|██▎       | 23/98 [19:54<44:24, 35.52s/it]"
     ]
    },
    {
     "name": "stdout",
     "output_type": "stream",
     "text": [
      "Path video: ../data/outer/video/fsk/source_video_decor/QR_Московская обл._БИТЦА_[7й корпус]_1_5_3_OeNbJ1_25-01-24_decor.mp4\n",
      "Number of frames: 3964\n"
     ]
    },
    {
     "name": "stderr",
     "output_type": "stream",
     "text": [
      "Video: QR_Московская обл._БИТЦА_[7й корпус]_2_13_3_zm2iCS_26-01-24.mp4:  24%|██▍       | 24/98 [20:41<47:47, 38.75s/it]     "
     ]
    },
    {
     "name": "stdout",
     "output_type": "stream",
     "text": [
      "Path video: ../data/outer/video/fsk/source_video_decor/QR_Московская обл._БИТЦА_[7й корпус]_2_13_3_zm2iCS_26-01-24.mp4\n",
      "Number of frames: 5948\n"
     ]
    },
    {
     "name": "stderr",
     "output_type": "stream",
     "text": [
      "Video: QR_Московская обл._БИТЦА_[7й корпус]_1_11_3_AprCpb_25-01-24_decor.mp4:  26%|██▌       | 25/98 [21:55<1:00:11, 49.48s/it]"
     ]
    },
    {
     "name": "stdout",
     "output_type": "stream",
     "text": [
      "Path video: ../data/outer/video/fsk/source_video_decor/QR_Московская обл._БИТЦА_[7й корпус]_1_11_3_AprCpb_25-01-24_decor.mp4\n",
      "Number of frames: 3902\n"
     ]
    },
    {
     "name": "stderr",
     "output_type": "stream",
     "text": [
      "Video: QR_Московская обл._БИТЦА_[7й корпус]_5_19_3_g3tO2g_30-01-24.mp4:  27%|██▋       | 26/98 [22:42<58:22, 48.64s/it]        "
     ]
    },
    {
     "name": "stdout",
     "output_type": "stream",
     "text": [
      "Path video: ../data/outer/video/fsk/source_video_decor/QR_Московская обл._БИТЦА_[7й корпус]_5_19_3_g3tO2g_30-01-24.mp4\n",
      "Number of frames: 2756\n"
     ]
    },
    {
     "name": "stderr",
     "output_type": "stream",
     "text": [
      "Video: QR_Московская обл._БИТЦА_[7й корпус]_2_3_3_4zcczc_26-01-24.mp4:  28%|██▊       | 27/98 [23:17<52:51, 44.66s/it] "
     ]
    },
    {
     "name": "stdout",
     "output_type": "stream",
     "text": [
      "Path video: ../data/outer/video/fsk/source_video_decor/QR_Московская обл._БИТЦА_[7й корпус]_2_3_3_4zcczc_26-01-24.mp4\n",
      "Number of frames: 6346\n"
     ]
    },
    {
     "name": "stderr",
     "output_type": "stream",
     "text": [
      "Video: QR_Московская обл._БИТЦА_[7й корпус]_4_3_3_ABiIbL_30-01-24.mp4:  29%|██▊       | 28/98 [24:36<1:03:55, 54.79s/it]"
     ]
    },
    {
     "name": "stdout",
     "output_type": "stream",
     "text": [
      "Path video: ../data/outer/video/fsk/source_video_decor/QR_Московская обл._БИТЦА_[7й корпус]_4_3_3_ABiIbL_30-01-24.mp4\n",
      "Number of frames: 2849\n"
     ]
    },
    {
     "name": "stderr",
     "output_type": "stream",
     "text": [
      "Video: QR_Московская обл._БИТЦА_[7й корпус]_1_10_3_gCSh5c_25-01-24_decor.mp4:  30%|██▉       | 29/98 [25:11<56:12, 48.87s/it]"
     ]
    },
    {
     "name": "stdout",
     "output_type": "stream",
     "text": [
      "Path video: ../data/outer/video/fsk/source_video_decor/QR_Московская обл._БИТЦА_[7й корпус]_1_10_3_gCSh5c_25-01-24_decor.mp4\n",
      "Number of frames: 4008\n"
     ]
    },
    {
     "name": "stderr",
     "output_type": "stream",
     "text": [
      "Video: QR_Московская обл._БИТЦА_[7й корпус]_1_21_3_n2UyLM_26-01-24.mp4:  31%|███       | 30/98 [25:59<55:21, 48.85s/it]      "
     ]
    },
    {
     "name": "stdout",
     "output_type": "stream",
     "text": [
      "Path video: ../data/outer/video/fsk/source_video_decor/QR_Московская обл._БИТЦА_[7й корпус]_1_21_3_n2UyLM_26-01-24.mp4\n",
      "Number of frames: 3793\n"
     ]
    },
    {
     "name": "stderr",
     "output_type": "stream",
     "text": [
      "Video: QR_Московская обл._БИТЦА_[7й корпус]_4_2_3_4Sxcjs_30-01-24.mp4:  32%|███▏      | 31/98 [26:53<56:16, 50.40s/it] "
     ]
    },
    {
     "name": "stdout",
     "output_type": "stream",
     "text": [
      "Path video: ../data/outer/video/fsk/source_video_decor/QR_Московская обл._БИТЦА_[7й корпус]_4_2_3_4Sxcjs_30-01-24.mp4\n",
      "Number of frames: 2872\n"
     ]
    },
    {
     "name": "stderr",
     "output_type": "stream",
     "text": [
      "Video: QR_Московская обл._БИТЦА_[7й корпус]_5_2_3_tvucrZ_30-01-24.mp4:  33%|███▎      | 32/98 [27:33<51:59, 47.27s/it]"
     ]
    },
    {
     "name": "stdout",
     "output_type": "stream",
     "text": [
      "Path video: ../data/outer/video/fsk/source_video_decor/QR_Московская обл._БИТЦА_[7й корпус]_5_2_3_tvucrZ_30-01-24.mp4\n",
      "Number of frames: 2197\n"
     ]
    },
    {
     "name": "stderr",
     "output_type": "stream",
     "text": [
      "Video: QR_Московская обл._БИТЦА_[7й корпус]_2_18_3_EKou1B_26-01-24.mp4:  34%|███▎      | 33/98 [28:05<46:04, 42.53s/it]"
     ]
    },
    {
     "name": "stdout",
     "output_type": "stream",
     "text": [
      "Path video: ../data/outer/video/fsk/source_video_decor/QR_Московская обл._БИТЦА_[7й корпус]_2_18_3_EKou1B_26-01-24.mp4\n",
      "Number of frames: 5622\n"
     ]
    },
    {
     "name": "stderr",
     "output_type": "stream",
     "text": [
      "Video: QR_Московская обл._БИТЦА_[7й корпус]_1_4_3_4etLQu_25-01-24_decor.mp4:  35%|███▍      | 34/98 [29:31<59:10, 55.48s/it]"
     ]
    },
    {
     "name": "stdout",
     "output_type": "stream",
     "text": [
      "Path video: ../data/outer/video/fsk/source_video_decor/QR_Московская обл._БИТЦА_[7й корпус]_1_4_3_4etLQu_25-01-24_decor.mp4\n",
      "Number of frames: 4806\n"
     ]
    },
    {
     "name": "stderr",
     "output_type": "stream",
     "text": [
      "Video: QR_Московская обл._БИТЦА_[7й корпус]_1_17_3_it2WP0_26-01-24.mp4:  36%|███▌      | 35/98 [30:43<1:03:40, 60.65s/it]     "
     ]
    },
    {
     "name": "stdout",
     "output_type": "stream",
     "text": [
      "Path video: ../data/outer/video/fsk/source_video_decor/QR_Московская обл._БИТЦА_[7й корпус]_1_17_3_it2WP0_26-01-24.mp4\n",
      "Number of frames: 3029\n"
     ]
    },
    {
     "name": "stderr",
     "output_type": "stream",
     "text": [
      "Video: QR_Московская обл._БИТЦА_[7й корпус]_4_18_3_HCA3C4_30-01-24.mp4:  37%|███▋      | 36/98 [31:28<57:43, 55.87s/it]  "
     ]
    },
    {
     "name": "stdout",
     "output_type": "stream",
     "text": [
      "Path video: ../data/outer/video/fsk/source_video_decor/QR_Московская обл._БИТЦА_[7й корпус]_4_18_3_HCA3C4_30-01-24.mp4\n",
      "Number of frames: 3131\n"
     ]
    }
   ],
   "source": [
    "for root, dirs, files in os.walk(PATH, topdown=False):\n",
    "    if len(files) != 0:\n",
    "        print(f'Number of video: {len(files)}')\n",
    "        bar = tqdm(files)\n",
    "        for name in bar:\n",
    "            bar.set_description(f'Video: {name}')\n",
    "            if name.endswith(\".mp4\") or name.endswith(\".MP4\"):\n",
    "                count = 0\n",
    "                path = os.path.join(root, name)\n",
    "                print(f'Path video: {path}')\n",
    "                cap = cv2.VideoCapture(path)\n",
    "                length = int(cap.get(cv2.CAP_PROP_FRAME_COUNT))\n",
    "                print(f'Number of frames: {length}')\n",
    "\n",
    "                while(cap.isOpened() and count < length):\n",
    "                    count += 1\n",
    "                    ret, frame = cap.read()\n",
    "                    if ret:\n",
    "                        if (count % multiplier == 0):\n",
    "                            status = cv2.imwrite(PATH_SAVE+Path(name).stem+\"_frame%d.jpg\" % count, frame)\n",
    "                            #print(\"Image written to file-system : \",count)\n",
    "\n",
    "                cap.release()"
   ]
  },
  {
   "cell_type": "markdown",
   "id": "e758c8d4-5090-46ec-8ee5-4857bbef4499",
   "metadata": {},
   "source": [
    "Необходимо отобрать 1500 кадров."
   ]
  },
  {
   "cell_type": "code",
   "execution_count": null,
   "id": "73d6b400-febc-43ca-b8d1-61c61407396a",
   "metadata": {},
   "outputs": [],
   "source": [
    "# заархивировать в tar архив\n",
    "def create_relative_tar(dir_to_compress, tar_filename):\n",
    "    with tarfile.open(tar_filename, 'w') as tar:\n",
    "        for root, _, files in os.walk(dir_to_compress):\n",
    "            for file in files:\n",
    "                full_path = os.path.join(root, file)\n",
    "                relative_path = os.path.relpath(full_path, dir_to_compress)\n",
    "                arcname = os.path.join(os.path.basename(dir_to_compress), relative_path)\n",
    "                tar.add(full_path, arcname=arcname)"
   ]
  },
  {
   "cell_type": "code",
   "execution_count": 134,
   "id": "55d320a7-726c-4d51-a212-58fdefa9dbe0",
   "metadata": {
    "tags": []
   },
   "outputs": [],
   "source": [
    "k = 1500"
   ]
  },
  {
   "cell_type": "code",
   "execution_count": 135,
   "id": "d449e768-c906-40d5-bf5e-16ca5d0dfd13",
   "metadata": {
    "tags": []
   },
   "outputs": [
    {
     "name": "stderr",
     "output_type": "stream",
     "text": [
      "100%|██████████| 1500/1500 [01:57<00:00, 12.74it/s]\n"
     ]
    }
   ],
   "source": [
    "import os\n",
    "import cv2\n",
    "import shutil\n",
    "import random\n",
    "import tarfile\n",
    "from pathlib import Path\n",
    "from tqdm import tqdm\n",
    "\n",
    "\n",
    "dir_save = '../data/cutting/fsk_selected'\n",
    "\n",
    "if os.path.exists(dir_save):\n",
    "    shutil.rmtree(dir_save)\n",
    "    \n",
    "os.makedirs(dir_save, exist_ok=True)\n",
    "\n",
    "path_imgs = [str(p) for p in Path(PATH_SAVE).rglob('*.jpg')]\n",
    "num_imgs = len(path_imgs)\n",
    "\n",
    "indxs = random.sample(range(num_imgs), k=k)\n",
    "\n",
    "for indx in tqdm(indxs):\n",
    "    path_img = path_imgs[indx]\n",
    "    file_name = Path(path_img).stem\n",
    "    img = cv2.imread(path_img)\n",
    "    cv2.imwrite(f'{dir_save}/{file_name}.jpg', img)\n",
    "    \n",
    "create_relative_tar(dir_save, f'{dir_save}.tar')"
   ]
  },
  {
   "cell_type": "markdown",
   "id": "5fc44961-8fb0-40a6-911b-04eb6ac4bab6",
   "metadata": {
    "tags": []
   },
   "source": [
    "### Cutting with select"
   ]
  },
  {
   "cell_type": "markdown",
   "id": "b52796e1-7d81-4a2c-8e7d-808dc2bcccf4",
   "metadata": {},
   "source": [
    "Нарезаем только указанные видео."
   ]
  },
  {
   "cell_type": "markdown",
   "id": "b6cda378-dad5-4c6d-84dd-c9a3b4d8b906",
   "metadata": {},
   "source": [
    "### Radiator"
   ]
  },
  {
   "cell_type": "code",
   "execution_count": 52,
   "id": "500f27be-f219-4512-9d1d-0f96723d7ed4",
   "metadata": {
    "tags": []
   },
   "outputs": [],
   "source": [
    "selected_videos = [\n",
    "    'QR_Москва_ОСТАФЬЕВО_[ОСТ_4 оч_13 ж.д.]_1_11_126_vH8Awc_07-10-23_decor.mp4',\n",
    "    'QR_Москва_ОСТАФЬЕВО_[ОСТ_4 оч_13 ж.д.]_1_10_126_ALZsWH_21-10-23_decor.mp4',\n",
    "    'QR_Москва_ОСТАФЬЕВО_[ОСТ_4 оч_13 ж.д.]_1_9_126_HloViF_21-10-23_decor.mp4',\n",
    "    'QR_Москва_ОСТАФЬЕВО_[ОСТ_4 оч_13 ж.д.]_1_4_126_RhA3jm_21-10-23_decor.mp4',\n",
    "    'QR_Москва_ОСТАФЬЕВО_[ОСТ_4 оч_13 ж.д.]_1_6_126_4a8o76_21-10-23_decor.mp4',\n",
    "    'QR_Москва_ОСТАФЬЕВО_[ОСТ_4 оч_13 ж.д.]_1_6_126_7nk4A9_07-10-23_decor.mp4'\n",
    "]"
   ]
  },
  {
   "cell_type": "code",
   "execution_count": 53,
   "id": "e5a88a61-d8c7-47b8-9708-262e9d31021b",
   "metadata": {
    "tags": []
   },
   "outputs": [],
   "source": [
    "PATH = '../data/outer/video/constructly/source_video/'\n",
    "PATH_SAVE = '../data/cutting/radiator/'\n",
    "multiplier = 15"
   ]
  },
  {
   "cell_type": "code",
   "execution_count": 54,
   "id": "e200cdc8-d1d4-4297-b57f-ce60c6bfde3d",
   "metadata": {
    "tags": []
   },
   "outputs": [
    {
     "name": "stdout",
     "output_type": "stream",
     "text": [
      "Number of video: 473\n"
     ]
    },
    {
     "name": "stderr",
     "output_type": "stream",
     "text": [
      "Video: QR_Москва_ОСТАФЬЕВО_[ОСТ_4 оч_13 ж.д.]_1_10_126_ALZsWH_21-10-23_decor.mp4:   0%|          | 0/473 [00:00<?, ?it/s]"
     ]
    },
    {
     "name": "stdout",
     "output_type": "stream",
     "text": [
      "Path video: ../data/outer/video/constructly/source_video/QR_Москва_ОСТАФЬЕВО_[ОСТ_4 оч_13 ж.д.]_1_10_126_ALZsWH_21-10-23_decor.mp4\n",
      "Number of frames: 24009\n"
     ]
    },
    {
     "name": "stderr",
     "output_type": "stream",
     "text": [
      "Video: QR_Москва_ОСТАФЬЕВО_[ОСТ_4 оч_13 ж.д.]_1_9_126_HloViF_21-10-23_decor.mp4:  18%|█▊        | 83/473 [01:00<04:43,  1.38it/s] "
     ]
    },
    {
     "name": "stdout",
     "output_type": "stream",
     "text": [
      "Path video: ../data/outer/video/constructly/source_video/QR_Москва_ОСТАФЬЕВО_[ОСТ_4 оч_13 ж.д.]_1_9_126_HloViF_21-10-23_decor.mp4\n",
      "Number of frames: 22743\n"
     ]
    },
    {
     "name": "stderr",
     "output_type": "stream",
     "text": [
      "Video: QR_Москва_ОСТАФЬЕВО_[ОСТ_4 оч_13 ж.д.]_1_4_126_RhA3jm_21-10-23_decor.mp4:  32%|███▏      | 150/473 [01:53<04:06,  1.31it/s]"
     ]
    },
    {
     "name": "stdout",
     "output_type": "stream",
     "text": [
      "Path video: ../data/outer/video/constructly/source_video/QR_Москва_ОСТАФЬЕВО_[ОСТ_4 оч_13 ж.д.]_1_4_126_RhA3jm_21-10-23_decor.mp4\n",
      "Number of frames: 18649\n"
     ]
    },
    {
     "name": "stderr",
     "output_type": "stream",
     "text": [
      "Video: QR_Москва_ОСТАФЬЕВО_[ОСТ_4 оч_13 ж.д.]_1_6_126_7nk4A9_07-10-23_decor.mp4:  51%|█████▏    | 243/473 [02:35<02:18,  1.66it/s]"
     ]
    },
    {
     "name": "stdout",
     "output_type": "stream",
     "text": [
      "Path video: ../data/outer/video/constructly/source_video/QR_Москва_ОСТАФЬЕВО_[ОСТ_4 оч_13 ж.д.]_1_6_126_7nk4A9_07-10-23_decor.mp4\n",
      "Number of frames: 21066\n"
     ]
    },
    {
     "name": "stderr",
     "output_type": "stream",
     "text": [
      "Video: QR_Москва_ОСТАФЬЕВО_[ОСТ_4 оч_13 ж.д.]_1_11_126_vH8Awc_07-10-23_decor.mp4:  55%|█████▌    | 261/473 [03:24<03:03,  1.16it/s]"
     ]
    },
    {
     "name": "stdout",
     "output_type": "stream",
     "text": [
      "Path video: ../data/outer/video/constructly/source_video/QR_Москва_ОСТАФЬЕВО_[ОСТ_4 оч_13 ж.д.]_1_11_126_vH8Awc_07-10-23_decor.mp4\n",
      "Number of frames: 21312\n"
     ]
    },
    {
     "name": "stderr",
     "output_type": "stream",
     "text": [
      "Video: QR_Москва_ОСТАФЬЕВО_[ОСТ_4 оч_13 ж.д.]_1_6_126_4a8o76_21-10-23_decor.mp4:  60%|██████    | 284/473 [04:14<03:29,  1.11s/it] "
     ]
    },
    {
     "name": "stdout",
     "output_type": "stream",
     "text": [
      "Path video: ../data/outer/video/constructly/source_video/QR_Москва_ОСТАФЬЕВО_[ОСТ_4 оч_13 ж.д.]_1_6_126_4a8o76_21-10-23_decor.mp4\n",
      "Number of frames: 19838\n"
     ]
    },
    {
     "name": "stderr",
     "output_type": "stream",
     "text": [
      "Video: QR_Москва_ОСТАФЬЕВО_[ОСТ_4 оч_13 ж.д.]_1_6_126_4a8o76_21-10-23_decor.mp4: 100%|██████████| 473/473 [04:59<00:00,  1.58it/s]\n"
     ]
    }
   ],
   "source": [
    "for root, dirs, files in os.walk(PATH, topdown=False):\n",
    "    if len(files) != 0:\n",
    "        print(f'Number of video: {len(files)}')\n",
    "        bar = tqdm(files)\n",
    "        for name in bar:\n",
    "            if name in selected_videos:\n",
    "                bar.set_description(f'Video: {name}')\n",
    "                if name.endswith(\".mp4\") or name.endswith(\".MP4\"):\n",
    "                    count = 0\n",
    "                    path = os.path.join(root, name)\n",
    "                    print(f'Path video: {path}')\n",
    "                    cap = cv2.VideoCapture(path)\n",
    "                    length = int(cap.get(cv2.CAP_PROP_FRAME_COUNT))\n",
    "                    print(f'Number of frames: {length}')\n",
    "\n",
    "                    while(cap.isOpened() and count < length):\n",
    "                        count += 1\n",
    "                        ret, frame = cap.read()\n",
    "                        if ret:\n",
    "                            if (count % multiplier == 0):\n",
    "                                status = cv2.imwrite(PATH_SAVE+Path(name).stem+\"_frame%d.jpg\" % count, frame)\n",
    "                                #print(\"Image written to file-system : \",count)\n",
    "\n",
    "                    cap.release()"
   ]
  },
  {
   "cell_type": "markdown",
   "id": "449c70ed-4255-408a-ac70-d0b9626b811b",
   "metadata": {},
   "source": [
    "### Пилот Самолета"
   ]
  },
  {
   "cell_type": "code",
   "execution_count": 55,
   "id": "ef60ac30-a319-4de6-9544-ba14e00cc148",
   "metadata": {
    "tags": []
   },
   "outputs": [],
   "source": [
    "selected_videos = [\n",
    "    # квартиры на этаже\n",
    "    'QR_Московская обл._ПРИБРЕЖНЫЙ ПАРК_[ПРП_3 оч_8.2 ж.д.]_1_7_125_o5RIRB_04-02-24_decor.mp4',\n",
    "    'Hand_Москва_НОВОЕ ВНУКОВО_[НВ_2 оч_13 ж.д.]_1_3_117_npHBS5_24-01-24_decor.mp4',\n",
    "    'QR_Dubai_SHOBA CONSTRUCTION_[Building 1]_1_3_11_7CAeyk_12-12-23_decor.mp4',\n",
    "    'QR_Московская обл._ПРИГОРОД ЛЕСНОЕ_[ПЛ_6 оч_1 эт_8.1 ж.д.]_1_2_127_IhppQE_11-12-23_decor.mp4',\n",
    "    # вестибюль\n",
    "    # Новое Внуково, есть только в финальной стадии\n",
    "    'Hand_Москва_НОВОЕ ВНУКОВО_[НВ_2 оч_13 ж.д.]_1_1_117_zQp23A_18-11-23_decor.mp4',\n",
    "    # Прибрежный парк есть только в черновой стадии\n",
    "    'QR_Московская обл._ПРИБРЕЖНЫЙ ПАРК_[ПРП_3 оч_8.2 ж.д.]_1_1_125_Qq281y_29-10-23_decor.mp4',\n",
    "    # Остафьево Пригород Лесное видео вестибюля отсутствует\n",
    "]"
   ]
  },
  {
   "cell_type": "code",
   "execution_count": 56,
   "id": "b801e9b5-5197-4c0f-ba6e-a27fbc8b5506",
   "metadata": {
    "tags": []
   },
   "outputs": [],
   "source": [
    "PATH = '../data/outer/video/constructly/source_video/'\n",
    "PATH_SAVE = '../data/cutting/samolet/'\n",
    "multiplier = 50"
   ]
  },
  {
   "cell_type": "code",
   "execution_count": 57,
   "id": "754df060-aa32-43ab-bd58-aed571d6e56b",
   "metadata": {
    "tags": []
   },
   "outputs": [
    {
     "name": "stdout",
     "output_type": "stream",
     "text": [
      "Number of video: 473\n"
     ]
    },
    {
     "name": "stderr",
     "output_type": "stream",
     "text": [
      "Video: QR_Dubai_SHOBA CONSTRUCTION_[Building 1]_1_3_11_7CAeyk_12-12-23_decor.mp4:   0%|          | 0/473 [00:00<?, ?it/s]"
     ]
    },
    {
     "name": "stdout",
     "output_type": "stream",
     "text": [
      "Path video: ../data/outer/video/constructly/source_video/QR_Dubai_SHOBA CONSTRUCTION_[Building 1]_1_3_11_7CAeyk_12-12-23_decor.mp4\n",
      "Number of frames: 533\n"
     ]
    },
    {
     "name": "stderr",
     "output_type": "stream",
     "text": [
      "Video: QR_Московская обл._ПРИБРЕЖНЫЙ ПАРК_[ПРП_3 оч_8.2 ж.д.]_1_1_125_Qq281y_29-10-23_decor.mp4:   3%|▎         | 16/473 [00:05<02:38,  2.89it/s]"
     ]
    },
    {
     "name": "stdout",
     "output_type": "stream",
     "text": [
      "Path video: ../data/outer/video/constructly/source_video/QR_Московская обл._ПРИБРЕЖНЫЙ ПАРК_[ПРП_3 оч_8.2 ж.д.]_1_1_125_Qq281y_29-10-23_decor.mp4\n",
      "Number of frames: 954\n"
     ]
    },
    {
     "name": "stderr",
     "output_type": "stream",
     "text": [
      "Video: QR_Московская обл._ПРИБРЕЖНЫЙ ПАРК_[ПРП_3 оч_8.2 ж.д.]_1_7_125_o5RIRB_04-02-24_decor.mp4:   7%|▋         | 32/473 [00:15<03:42,  1.98it/s]"
     ]
    },
    {
     "name": "stdout",
     "output_type": "stream",
     "text": [
      "Path video: ../data/outer/video/constructly/source_video/QR_Московская обл._ПРИБРЕЖНЫЙ ПАРК_[ПРП_3 оч_8.2 ж.д.]_1_7_125_o5RIRB_04-02-24_decor.mp4\n",
      "Number of frames: 5033\n"
     ]
    },
    {
     "name": "stderr",
     "output_type": "stream",
     "text": [
      "Video: QR_Московская обл._ПРИГОРОД ЛЕСНОЕ_[ПЛ_6 оч_1 эт_8.1 ж.д.]_1_2_127_IhppQE_11-12-23_decor.mp4:  10%|▉         | 46/473 [01:08<13:26,  1.89s/it]"
     ]
    },
    {
     "name": "stdout",
     "output_type": "stream",
     "text": [
      "Path video: ../data/outer/video/constructly/source_video/QR_Московская обл._ПРИГОРОД ЛЕСНОЕ_[ПЛ_6 оч_1 эт_8.1 ж.д.]_1_2_127_IhppQE_11-12-23_decor.mp4\n",
      "Number of frames: 22648\n"
     ]
    },
    {
     "name": "stderr",
     "output_type": "stream",
     "text": [
      "Video: Hand_Москва_НОВОЕ ВНУКОВО_[НВ_2 оч_13 ж.д.]_1_1_117_zQp23A_18-11-23_decor.mp4:  39%|███▉      | 186/473 [04:41<07:32,  1.58s/it]               "
     ]
    },
    {
     "name": "stdout",
     "output_type": "stream",
     "text": [
      "Path video: ../data/outer/video/constructly/source_video/Hand_Москва_НОВОЕ ВНУКОВО_[НВ_2 оч_13 ж.д.]_1_1_117_zQp23A_18-11-23_decor.mp4\n",
      "Number of frames: 1943\n"
     ]
    },
    {
     "name": "stderr",
     "output_type": "stream",
     "text": [
      "Video: Hand_Москва_НОВОЕ ВНУКОВО_[НВ_2 оч_13 ж.д.]_1_3_117_npHBS5_24-01-24_decor.mp4:  51%|█████     | 241/473 [05:05<04:40,  1.21s/it]"
     ]
    },
    {
     "name": "stdout",
     "output_type": "stream",
     "text": [
      "Path video: ../data/outer/video/constructly/source_video/Hand_Москва_НОВОЕ ВНУКОВО_[НВ_2 оч_13 ж.д.]_1_3_117_npHBS5_24-01-24_decor.mp4\n",
      "Number of frames: 5340\n"
     ]
    },
    {
     "name": "stderr",
     "output_type": "stream",
     "text": [
      "Video: Hand_Москва_НОВОЕ ВНУКОВО_[НВ_2 оч_13 ж.д.]_1_3_117_npHBS5_24-01-24_decor.mp4: 100%|██████████| 473/473 [06:04<00:00,  1.30it/s]\n"
     ]
    }
   ],
   "source": [
    "for root, dirs, files in os.walk(PATH, topdown=False):\n",
    "    if len(files) != 0:\n",
    "        print(f'Number of video: {len(files)}')\n",
    "        bar = tqdm(files)\n",
    "        for name in bar:\n",
    "            if name in selected_videos:\n",
    "                bar.set_description(f'Video: {name}')\n",
    "                if name.endswith(\".mp4\") or name.endswith(\".MP4\"):\n",
    "                    count = 0\n",
    "                    path = os.path.join(root, name)\n",
    "                    print(f'Path video: {path}')\n",
    "                    cap = cv2.VideoCapture(path)\n",
    "                    length = int(cap.get(cv2.CAP_PROP_FRAME_COUNT))\n",
    "                    print(f'Number of frames: {length}')\n",
    "\n",
    "                    while(cap.isOpened() and count < length):\n",
    "                        count += 1\n",
    "                        ret, frame = cap.read()\n",
    "                        if ret:\n",
    "                            if (count % multiplier == 0):\n",
    "                                status = cv2.imwrite(PATH_SAVE+Path(name).stem+\"_frame%d.jpg\" % count, frame)\n",
    "                                #print(\"Image written to file-system : \",count)\n",
    "\n",
    "                    cap.release()"
   ]
  },
  {
   "cell_type": "markdown",
   "id": "0e86feeb-8811-461a-a51f-70888c8facea",
   "metadata": {},
   "source": [
    "Из нарезанных кадров отобрать 500 изображений без повторений."
   ]
  },
  {
   "cell_type": "code",
   "execution_count": 130,
   "id": "3c10339d-dedb-4054-8db3-b1a6f60ef9c3",
   "metadata": {
    "tags": []
   },
   "outputs": [],
   "source": [
    "# заархивировать в tar архив\n",
    "def create_relative_tar(dir_to_compress, tar_filename):\n",
    "    with tarfile.open(tar_filename, 'w') as tar:\n",
    "        for root, _, files in os.walk(dir_to_compress):\n",
    "            for file in files:\n",
    "                full_path = os.path.join(root, file)\n",
    "                relative_path = os.path.relpath(full_path, dir_to_compress)\n",
    "                arcname = os.path.join(os.path.basename(dir_to_compress), relative_path)\n",
    "                tar.add(full_path, arcname=arcname)"
   ]
  },
  {
   "cell_type": "code",
   "execution_count": 132,
   "id": "298d1059-3911-412d-82fe-c141cae14fec",
   "metadata": {
    "tags": []
   },
   "outputs": [
    {
     "name": "stderr",
     "output_type": "stream",
     "text": [
      "100%|██████████| 500/500 [00:39<00:00, 12.78it/s]\n"
     ]
    }
   ],
   "source": [
    "import os\n",
    "import cv2\n",
    "import shutil\n",
    "import random\n",
    "import tarfile\n",
    "from pathlib import Path\n",
    "from tqdm import tqdm\n",
    "\n",
    "\n",
    "dir_save = '../data/cutting/samolet_selected'\n",
    "\n",
    "if os.path.exists(dir_save):\n",
    "    shutil.rmtree(dir_save)\n",
    "    \n",
    "os.makedirs(dir_save, exist_ok=True)\n",
    "\n",
    "path_imgs = [str(p) for p in Path(PATH_SAVE).rglob('*.jpg')]\n",
    "num_imgs = len(path_imgs)\n",
    "\n",
    "indxs = random.sample(range(num_imgs), k=500)\n",
    "\n",
    "for indx in tqdm(indxs):\n",
    "    path_img = path_imgs[indx]\n",
    "    file_name = Path(path_img).stem\n",
    "    img = cv2.imread(path_img)\n",
    "    cv2.imwrite(f'{dir_save}/{file_name}.jpg', img)\n",
    "    \n",
    "create_relative_tar(dir_save, f'{dir_save}.tar')"
   ]
  },
  {
   "cell_type": "code",
   "execution_count": null,
   "id": "1f5a42d2-6808-4936-82b4-9ac9eb105ac3",
   "metadata": {},
   "outputs": [],
   "source": [
    "sudo cp /var/lib/docker/volumes/jupyterhub-user-ignatovd/_data/csm_inner_ds/cv/classification/multi/decor/v0.1/data/cutting/fsk_selected.tar /var/lib/docker/volumes/jupyterhub-user-meugeny/_data/for_cvat"
   ]
  },
  {
   "cell_type": "code",
   "execution_count": null,
   "id": "9583adad-b719-49d9-987e-0f6f94a8214b",
   "metadata": {},
   "outputs": [],
   "source": []
  }
 ],
 "metadata": {
  "kernelspec": {
   "display_name": "s_iner_cv_clf_multi_decor_v0.1",
   "language": "python",
   "name": "s_iner_cv_clf_multi_decor_v0.1"
  },
  "language_info": {
   "codemirror_mode": {
    "name": "ipython",
    "version": 3
   },
   "file_extension": ".py",
   "mimetype": "text/x-python",
   "name": "python",
   "nbconvert_exporter": "python",
   "pygments_lexer": "ipython3",
   "version": "3.10.13"
  }
 },
 "nbformat": 4,
 "nbformat_minor": 5
}
